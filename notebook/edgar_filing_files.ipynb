{
 "cells": [
  {
   "cell_type": "code",
   "execution_count": 2,
   "metadata": {},
   "outputs": [
    {
     "name": "stderr",
     "output_type": "stream",
     "text": [
      "/home/tinglu/miniconda3/envs/py37/lib/python3.7/site-packages/dask/dataframe/utils.py:14: FutureWarning: pandas.util.testing is deprecated. Use the functions in the public API at pandas.testing instead.\n",
      "  import pandas.util.testing as tm\n"
     ]
    }
   ],
   "source": [
    "import os, sys, logging\n",
    "import pandas as pd\n",
    "sys.path.append(os.path.join(os.getcwd(), '..'))\n",
    "from edgar_analyzer import edgar_analyzer as ea\n",
    "#logging.setLevel(\"WARNING\")"
   ]
  },
  {
   "cell_type": "code",
   "execution_count": 3,
   "metadata": {},
   "outputs": [
    {
     "name": "stderr",
     "output_type": "stream",
     "text": [
      "/mnt/c/Quant/dev/edgar_analyzer/notebook/../edgar_analyzer/edgar_analyzer.py:19: FutureWarning: The pandas.datetime class is deprecated and will be removed from pandas in a future version. Import from datetime module instead.\n",
      "  self.today = pd.datetime.today()\n",
      "02-02 01:40|EdgarAnalyzer|INFO|using quarters between 2019-01-01 00:00:00 to 2020-03-31 00:00:00\n",
      "02-02 01:40|EdgarAnalyzer|INFO|downloading /data/edgar/edgar/full-index/2020/QTR1/master.idx\n",
      "02-02 01:40|EdgarAnalyzer|INFO|downloading /data/edgar/edgar/full-index/2019/QTR4/master.idx\n",
      "02-02 01:40|EdgarAnalyzer|INFO|downloading /data/edgar/edgar/full-index/2019/QTR3/master.idx\n",
      "02-02 01:40|EdgarAnalyzer|INFO|downloading /data/edgar/edgar/full-index/2019/QTR1/master.idx\n",
      "02-02 01:40|EdgarAnalyzer|INFO|downloading /data/edgar/edgar/full-index/2019/QTR2/master.idx\n",
      "02-02 01:40|EdgarAnalyzer|INFO|read master_idx db, n=0\n",
      "02-02 01:40|EdgarAnalyzer|INFO|write master_idx db, n=97188\n"
     ]
    }
   ],
   "source": [
    "dir_edgar = '/data/edgar'\n",
    "ep = ea.EdgarDownloader(dir_edgar)\n",
    "ep.load_master_db('2019-01-01', '2020-01-30', force_reload=True)"
   ]
  },
  {
   "cell_type": "code",
   "execution_count": 4,
   "metadata": {},
   "outputs": [
    {
     "name": "stderr",
     "output_type": "stream",
     "text": [
      "02-02 01:40|EdgarAnalyzer|INFO|downloading /data/edgar/edgar/data/320193/0000320193-19-000119.txt\n"
     ]
    },
    {
     "data": {
      "text/plain": [
       "['/data/edgar/edgar/data/320193/0000320193-19-000119.txt']"
      ]
     },
     "execution_count": 4,
     "metadata": {},
     "output_type": "execute_result"
    }
   ],
   "source": [
    "ep.filings_between('AAPL', '2015-01-01', form_type='10-K')"
   ]
  },
  {
   "cell_type": "code",
   "execution_count": 5,
   "metadata": {},
   "outputs": [
    {
     "name": "stderr",
     "output_type": "stream",
     "text": [
      "02-02 01:40|EdgarAnalyzer|INFO|downloading /data/edgar/edgar/data/320193/0000320193-19-000076.txt\n",
      "02-02 01:40|EdgarAnalyzer|INFO|downloading /data/edgar/edgar/data/320193/0000320193-19-000066.txt\n",
      "02-02 01:40|EdgarAnalyzer|INFO|downloading /data/edgar/edgar/data/320193/0000320193-19-000010.txt\n",
      "02-02 01:40|EdgarAnalyzer|INFO|downloading /data/edgar/edgar/data/320193/0000320193-20-000010.txt\n"
     ]
    },
    {
     "data": {
      "text/plain": [
       "['/data/edgar/edgar/data/320193/0000320193-19-000010.txt',\n",
       " '/data/edgar/edgar/data/320193/0000320193-19-000066.txt',\n",
       " '/data/edgar/edgar/data/320193/0000320193-19-000076.txt',\n",
       " '/data/edgar/edgar/data/320193/0000320193-20-000010.txt']"
      ]
     },
     "execution_count": 5,
     "metadata": {},
     "output_type": "execute_result"
    }
   ],
   "source": [
    "ep.filings_between('AAPL', '2015-01-01', form_type='10-Q', download=True)"
   ]
  },
  {
   "cell_type": "code",
   "execution_count": 6,
   "metadata": {},
   "outputs": [
    {
     "data": {
      "text/html": [
       "<div>\n",
       "<style scoped>\n",
       "    .dataframe tbody tr th:only-of-type {\n",
       "        vertical-align: middle;\n",
       "    }\n",
       "\n",
       "    .dataframe tbody tr th {\n",
       "        vertical-align: top;\n",
       "    }\n",
       "\n",
       "    .dataframe thead th {\n",
       "        text-align: right;\n",
       "    }\n",
       "</style>\n",
       "<table border=\"1\" class=\"dataframe\">\n",
       "  <thead>\n",
       "    <tr style=\"text-align: right;\">\n",
       "      <th></th>\n",
       "      <th>index</th>\n",
       "      <th>cik</th>\n",
       "      <th>company_name</th>\n",
       "      <th>form_type</th>\n",
       "      <th>date_filed</th>\n",
       "      <th>filename</th>\n",
       "    </tr>\n",
       "  </thead>\n",
       "  <tbody>\n",
       "    <tr>\n",
       "      <th>97183</th>\n",
       "      <td>None</td>\n",
       "      <td>98246.0</td>\n",
       "      <td>TIFFANY &amp; CO</td>\n",
       "      <td>8-K</td>\n",
       "      <td>2020-01-24</td>\n",
       "      <td>edgar/data/98246/0001193125-20-014240.txt</td>\n",
       "    </tr>\n",
       "    <tr>\n",
       "      <th>97184</th>\n",
       "      <td>None</td>\n",
       "      <td>98338.0</td>\n",
       "      <td>TSR INC</td>\n",
       "      <td>10-Q</td>\n",
       "      <td>2020-01-13</td>\n",
       "      <td>edgar/data/98338/0001213900-20-000888.txt</td>\n",
       "    </tr>\n",
       "    <tr>\n",
       "      <th>97185</th>\n",
       "      <td>None</td>\n",
       "      <td>98338.0</td>\n",
       "      <td>TSR INC</td>\n",
       "      <td>8-K</td>\n",
       "      <td>2020-01-29</td>\n",
       "      <td>edgar/data/98338/0001213900-20-002097.txt</td>\n",
       "    </tr>\n",
       "    <tr>\n",
       "      <th>97186</th>\n",
       "      <td>None</td>\n",
       "      <td>98362.0</td>\n",
       "      <td>TIMKEN CO</td>\n",
       "      <td>8-K</td>\n",
       "      <td>2020-01-30</td>\n",
       "      <td>edgar/data/98362/0000098362-20-000003.txt</td>\n",
       "    </tr>\n",
       "    <tr>\n",
       "      <th>97187</th>\n",
       "      <td>None</td>\n",
       "      <td>99780.0</td>\n",
       "      <td>TRINITY INDUSTRIES INC</td>\n",
       "      <td>8-K</td>\n",
       "      <td>2020-01-15</td>\n",
       "      <td>edgar/data/99780/0000099780-20-000008.txt</td>\n",
       "    </tr>\n",
       "  </tbody>\n",
       "</table>\n",
       "</div>"
      ],
      "text/plain": [
       "      index      cik            company_name form_type  date_filed  \\\n",
       "97183  None  98246.0            TIFFANY & CO       8-K  2020-01-24   \n",
       "97184  None  98338.0                 TSR INC      10-Q  2020-01-13   \n",
       "97185  None  98338.0                 TSR INC       8-K  2020-01-29   \n",
       "97186  None  98362.0               TIMKEN CO       8-K  2020-01-30   \n",
       "97187  None  99780.0  TRINITY INDUSTRIES INC       8-K  2020-01-15   \n",
       "\n",
       "                                        filename  \n",
       "97183  edgar/data/98246/0001193125-20-014240.txt  \n",
       "97184  edgar/data/98338/0001213900-20-000888.txt  \n",
       "97185  edgar/data/98338/0001213900-20-002097.txt  \n",
       "97186  edgar/data/98362/0000098362-20-000003.txt  \n",
       "97187  edgar/data/99780/0000099780-20-000008.txt  "
      ]
     },
     "execution_count": 6,
     "metadata": {},
     "output_type": "execute_result"
    }
   ],
   "source": [
    "sql = 'select * from master_idx'\n",
    "df=  pd.read_sql(sql, ep.conn_master_db)\n",
    "df.tail()"
   ]
  }
 ],
 "metadata": {
  "kernelspec": {
   "display_name": "py37",
   "language": "python",
   "name": "py37"
  },
  "language_info": {
   "codemirror_mode": {
    "name": "ipython",
    "version": 3
   },
   "file_extension": ".py",
   "mimetype": "text/x-python",
   "name": "python",
   "nbconvert_exporter": "python",
   "pygments_lexer": "ipython3",
   "version": "3.7.5"
  }
 },
 "nbformat": 4,
 "nbformat_minor": 4
}
